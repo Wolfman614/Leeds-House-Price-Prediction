{
 "cells": [
  {
   "cell_type": "code",
   "execution_count": 1,
   "id": "082f7d83",
   "metadata": {},
   "outputs": [],
   "source": [
    "import warnings\n",
    "import re\n",
    "import copy\n",
    "import numpy as np\n",
    "import pandas as pd\n",
    "import sklearn\n",
    "import seaborn as sns\n",
    "import plotly.io as pio\n",
    "import plotly.express as px\n",
    "import matplotlib.pyplot as plt\n",
    "import plotly.graph_objects as go\n",
    "\n",
    "from math import sqrt\n",
    "from tabulate import tabulate\n",
    "from plotly.offline import iplot\n",
    "from plotly.subplots import make_subplots\n",
    "from datetime import datetime\n",
    "from sklearn.model_selection import KFold\n",
    "from sklearn.impute import SimpleImputer\n",
    "from scipy.stats import pearsonr, spearmanr\n",
    "from sklearn.pipeline import Pipeline, FeatureUnion\n",
    "from sklearn.base import BaseEstimator, TransformerMixin\n",
    "from joblib import Parallel, delayed\n",
    "from sklearn.preprocessing import LabelEncoder\n",
    "from sklearn.preprocessing import PolynomialFeatures\n",
    "from sklearn.preprocessing import StandardScaler, OrdinalEncoder\n",
    "from sklearn.model_selection import train_test_split\n",
    "from sklearn.model_selection import cross_val_score\n",
    "from sklearn.model_selection import GridSearchCV\n",
    "from sklearn.feature_selection import SelectKBest, f_classif, f_regression\n",
    "from sklearn.metrics import r2_score, mean_squared_error, mean_absolute_error\n",
    "from sklearn.svm import SVR\n",
    "from sklearn.neighbors import KNeighborsRegressor\n",
    "from sklearn.ensemble import GradientBoostingRegressor, RandomForestRegressor"
   ]
  },
  {
   "cell_type": "code",
   "execution_count": 2,
   "id": "238b9707",
   "metadata": {},
   "outputs": [],
   "source": [
    "df = pd.read_csv('test_data.csv', encoding='latin-1',low_memory=False)"
   ]
  },
  {
   "cell_type": "code",
   "execution_count": 3,
   "id": "1682a879",
   "metadata": {},
   "outputs": [
    {
     "data": {
      "text/html": [
       "<div>\n",
       "<style scoped>\n",
       "    .dataframe tbody tr th:only-of-type {\n",
       "        vertical-align: middle;\n",
       "    }\n",
       "\n",
       "    .dataframe tbody tr th {\n",
       "        vertical-align: top;\n",
       "    }\n",
       "\n",
       "    .dataframe thead th {\n",
       "        text-align: right;\n",
       "    }\n",
       "</style>\n",
       "<table border=\"1\" class=\"dataframe\">\n",
       "  <thead>\n",
       "    <tr style=\"text-align: right;\">\n",
       "      <th></th>\n",
       "      <th>PRICE</th>\n",
       "      <th>OLD/NEW</th>\n",
       "      <th>DURATION</th>\n",
       "      <th>TOWN/CITY</th>\n",
       "      <th>Year</th>\n",
       "      <th>Month</th>\n",
       "      <th>Property_Type__D</th>\n",
       "      <th>Property_Type__F</th>\n",
       "      <th>Property_Type__S</th>\n",
       "      <th>Property_Type__T</th>\n",
       "    </tr>\n",
       "  </thead>\n",
       "  <tbody>\n",
       "    <tr>\n",
       "      <th>0</th>\n",
       "      <td>34250</td>\n",
       "      <td>0</td>\n",
       "      <td>0</td>\n",
       "      <td>1.0</td>\n",
       "      <td>1996</td>\n",
       "      <td>2</td>\n",
       "      <td>0</td>\n",
       "      <td>0</td>\n",
       "      <td>0</td>\n",
       "      <td>1</td>\n",
       "    </tr>\n",
       "    <tr>\n",
       "      <th>1</th>\n",
       "      <td>49500</td>\n",
       "      <td>0</td>\n",
       "      <td>0</td>\n",
       "      <td>1.0</td>\n",
       "      <td>1999</td>\n",
       "      <td>4</td>\n",
       "      <td>0</td>\n",
       "      <td>0</td>\n",
       "      <td>1</td>\n",
       "      <td>0</td>\n",
       "    </tr>\n",
       "    <tr>\n",
       "      <th>2</th>\n",
       "      <td>225000</td>\n",
       "      <td>0</td>\n",
       "      <td>0</td>\n",
       "      <td>1.0</td>\n",
       "      <td>2010</td>\n",
       "      <td>4</td>\n",
       "      <td>1</td>\n",
       "      <td>0</td>\n",
       "      <td>0</td>\n",
       "      <td>0</td>\n",
       "    </tr>\n",
       "    <tr>\n",
       "      <th>3</th>\n",
       "      <td>87000</td>\n",
       "      <td>0</td>\n",
       "      <td>0</td>\n",
       "      <td>1.0</td>\n",
       "      <td>1996</td>\n",
       "      <td>11</td>\n",
       "      <td>1</td>\n",
       "      <td>0</td>\n",
       "      <td>0</td>\n",
       "      <td>0</td>\n",
       "    </tr>\n",
       "    <tr>\n",
       "      <th>4</th>\n",
       "      <td>20000</td>\n",
       "      <td>0</td>\n",
       "      <td>0</td>\n",
       "      <td>1.0</td>\n",
       "      <td>1996</td>\n",
       "      <td>8</td>\n",
       "      <td>0</td>\n",
       "      <td>0</td>\n",
       "      <td>0</td>\n",
       "      <td>1</td>\n",
       "    </tr>\n",
       "  </tbody>\n",
       "</table>\n",
       "</div>"
      ],
      "text/plain": [
       "    PRICE  OLD/NEW  DURATION  TOWN/CITY  Year  Month  Property_Type__D  \\\n",
       "0   34250        0         0        1.0  1996      2                 0   \n",
       "1   49500        0         0        1.0  1999      4                 0   \n",
       "2  225000        0         0        1.0  2010      4                 1   \n",
       "3   87000        0         0        1.0  1996     11                 1   \n",
       "4   20000        0         0        1.0  1996      8                 0   \n",
       "\n",
       "   Property_Type__F  Property_Type__S  Property_Type__T  \n",
       "0                 0                 0                 1  \n",
       "1                 0                 1                 0  \n",
       "2                 0                 0                 0  \n",
       "3                 0                 0                 0  \n",
       "4                 0                 0                 1  "
      ]
     },
     "execution_count": 3,
     "metadata": {},
     "output_type": "execute_result"
    }
   ],
   "source": [
    "df.head()"
   ]
  },
  {
   "cell_type": "code",
   "execution_count": 4,
   "id": "e4928a42",
   "metadata": {},
   "outputs": [
    {
     "name": "stdout",
     "output_type": "stream",
     "text": [
      "(5474, 10)\n"
     ]
    }
   ],
   "source": [
    "print(df.shape)"
   ]
  },
  {
   "cell_type": "code",
   "execution_count": 5,
   "id": "fae0dc56",
   "metadata": {},
   "outputs": [],
   "source": [
    "#FEATURE SELECTION\n",
    "# Split data into features and target variable\n",
    "X = df.drop('PRICE', axis=1)\n",
    "y = df[\"PRICE\"]"
   ]
  },
  {
   "cell_type": "code",
   "execution_count": 6,
   "id": "dd821390",
   "metadata": {},
   "outputs": [],
   "source": [
    "#SPLITTING AND MODEL SELECTION WITH HYPERPARAMETER TUNING\n",
    "\n",
    "# Train-test split for evaluation\n",
    "X_train, X_test, y_train, y_test = train_test_split(X, y, test_size=0.2, random_state=42)"
   ]
  },
  {
   "cell_type": "code",
   "execution_count": 7,
   "id": "8d339897",
   "metadata": {
    "scrolled": true
   },
   "outputs": [],
   "source": [
    "# Define efficient parameters for each model\n",
    "rf_params = {\n",
    "    \"n_estimators\": 200,\n",
    "    \"max_depth\": 8,\n",
    "    \"min_samples_split\": 2\n",
    "}\n",
    "\n",
    "knn_params = {\n",
    "    \"n_neighbors\": 5,\n",
    "    \"weights\": \"distance\",\n",
    "    \"p\": 2\n",
    "}\n",
    "\n",
    "gb_params = {\n",
    "    \"learning_rate\": 0.1,\n",
    "    \"n_estimators\": 200,\n",
    "    \"max_depth\": 3\n",
    "}\n",
    "\n",
    "svr_params = {\n",
    "    \"kernel\": \"linear\",\n",
    "    \"C\": 1000,\n",
    "    \"epsilon\": 0.05\n",
    "}\n",
    "\n",
    "# Initialize models with efficient parameters\n",
    "random_forest = RandomForestRegressor(**rf_params)\n",
    "knn = KNeighborsRegressor(**knn_params)\n",
    "gradient_boosting = GradientBoostingRegressor(**gb_params)\n",
    "svr = SVR(**svr_params)"
   ]
  },
  {
   "cell_type": "code",
   "execution_count": 8,
   "id": "76bb3f50",
   "metadata": {},
   "outputs": [],
   "source": [
    "# List of models\n",
    "models = [random_forest, knn, gradient_boosting, svr]\n",
    "\n",
    "# Initialize lists to store results\n",
    "results = []"
   ]
  },
  {
   "cell_type": "code",
   "execution_count": 9,
   "id": "52bed17a",
   "metadata": {},
   "outputs": [],
   "source": [
    "# Evaluate models using cross-validation\n",
    "for model in models:\n",
    "    \n",
    "    # Perform cross-validation\n",
    "    cv_scores = cross_val_score(model, X_train, y_train, cv=3, scoring='neg_mean_squared_error', n_jobs = -1)\n",
    "    cv_rmse_scores = [sqrt(-score) for score in cv_scores]  # Convert negative MSE to RMSE\n",
    "    \n",
    "    # Calculate mean RMSE and R2 from cross-validation scores\n",
    "    mean_cv_rmse = sum(cv_rmse_scores) / len(cv_rmse_scores)\n",
    "    \n",
    "    # Train the model on full training set\n",
    "    model.fit(X_train, y_train)\n",
    "    \n",
    "    # Evaluate on test set\n",
    "    y_pred = model.predict(X_test)\n",
    "    test_rmse = sqrt(mean_squared_error(y_test, y_pred))\n",
    "    test_mse = mean_squared_error(y_test, y_pred)\n",
    "    test_r2 = r2_score(y_test, y_pred)\n",
    "    \n",
    "    # Store results\n",
    "    results.append({\n",
    "        'Model': model.__class__.__name__,\n",
    "        'Mean CV RMSE': mean_cv_rmse,\n",
    "        'Test RMSE': test_rmse,\n",
    "        'Test MSE': test_mse,\n",
    "        'Test R2': test_r2\n",
    "    })"
   ]
  },
  {
   "cell_type": "code",
   "execution_count": 10,
   "id": "9067ad20",
   "metadata": {},
   "outputs": [
    {
     "name": "stdout",
     "output_type": "stream",
     "text": [
      "Model Comparison:\n"
     ]
    },
    {
     "data": {
      "text/html": [
       "<div>\n",
       "<style scoped>\n",
       "    .dataframe tbody tr th:only-of-type {\n",
       "        vertical-align: middle;\n",
       "    }\n",
       "\n",
       "    .dataframe tbody tr th {\n",
       "        vertical-align: top;\n",
       "    }\n",
       "\n",
       "    .dataframe thead th {\n",
       "        text-align: right;\n",
       "    }\n",
       "</style>\n",
       "<table border=\"1\" class=\"dataframe\">\n",
       "  <thead>\n",
       "    <tr style=\"text-align: right;\">\n",
       "      <th></th>\n",
       "      <th>Model</th>\n",
       "      <th>Mean CV RMSE</th>\n",
       "      <th>Test RMSE</th>\n",
       "      <th>Test MSE</th>\n",
       "      <th>Test R2</th>\n",
       "    </tr>\n",
       "  </thead>\n",
       "  <tbody>\n",
       "    <tr>\n",
       "      <th>0</th>\n",
       "      <td>RandomForestRegressor</td>\n",
       "      <td>71111.032046</td>\n",
       "      <td>73271.570644</td>\n",
       "      <td>5.368723e+09</td>\n",
       "      <td>0.449970</td>\n",
       "    </tr>\n",
       "    <tr>\n",
       "      <th>1</th>\n",
       "      <td>KNeighborsRegressor</td>\n",
       "      <td>82404.739675</td>\n",
       "      <td>81527.624455</td>\n",
       "      <td>6.646754e+09</td>\n",
       "      <td>0.319035</td>\n",
       "    </tr>\n",
       "    <tr>\n",
       "      <th>2</th>\n",
       "      <td>GradientBoostingRegressor</td>\n",
       "      <td>67917.937771</td>\n",
       "      <td>71396.311103</td>\n",
       "      <td>5.097433e+09</td>\n",
       "      <td>0.477764</td>\n",
       "    </tr>\n",
       "    <tr>\n",
       "      <th>3</th>\n",
       "      <td>SVR</td>\n",
       "      <td>74914.399054</td>\n",
       "      <td>80513.081364</td>\n",
       "      <td>6.482356e+09</td>\n",
       "      <td>0.335878</td>\n",
       "    </tr>\n",
       "  </tbody>\n",
       "</table>\n",
       "</div>"
      ],
      "text/plain": [
       "                       Model  Mean CV RMSE     Test RMSE      Test MSE  \\\n",
       "0      RandomForestRegressor  71111.032046  73271.570644  5.368723e+09   \n",
       "1        KNeighborsRegressor  82404.739675  81527.624455  6.646754e+09   \n",
       "2  GradientBoostingRegressor  67917.937771  71396.311103  5.097433e+09   \n",
       "3                        SVR  74914.399054  80513.081364  6.482356e+09   \n",
       "\n",
       "    Test R2  \n",
       "0  0.449970  \n",
       "1  0.319035  \n",
       "2  0.477764  \n",
       "3  0.335878  "
      ]
     },
     "metadata": {},
     "output_type": "display_data"
    }
   ],
   "source": [
    "# Create DataFrame for results\n",
    "results_df = pd.DataFrame(results)\n",
    "\n",
    "# Print results table\n",
    "print(\"Model Comparison:\")\n",
    "display(results_df)\n"
   ]
  },
  {
   "cell_type": "code",
   "execution_count": 11,
   "id": "5d81baf7",
   "metadata": {},
   "outputs": [
    {
     "name": "stdout",
     "output_type": "stream",
     "text": [
      "\n",
      "Best Fit Model: GradientBoostingRegressor\n"
     ]
    }
   ],
   "source": [
    "# Select best performing model based on mean CV RMSE\n",
    "best_model_idx = results_df['Mean CV RMSE'].idxmin()\n",
    "best_model_idx = results_df['Test RMSE'].idxmin()\n",
    "best_model_idx = results_df['Test MSE'].idxmin()\n",
    "best_model_name = results_df.loc[best_model_idx, 'Model']\n",
    "print(f\"\\nBest Fit Model: {best_model_name}\")\n"
   ]
  },
  {
   "cell_type": "code",
   "execution_count": 12,
   "id": "15335ac2",
   "metadata": {},
   "outputs": [
    {
     "data": {
      "image/png": "[encoded data removed]",
      "text/plain": [
       "<Figure size 1080x504 with 1 Axes>"
      ]
     },
     "metadata": {
      "needs_background": "light"
     },
     "output_type": "display_data"
    }
   ],
   "source": [
    "# Combine plots into a single barplot\n",
    "plt.figure(figsize=(15, 7))\n",
    "\n",
    "# Melt the DataFrame to reshape it properly\n",
    "melted_df = pd.melt(results_df, id_vars=['Model'], value_vars=['Mean CV RMSE', 'Test RMSE', 'Test R2'], \n",
    "                    var_name='Metric', value_name='Value')\n",
    "\n",
    "# Plotting Mean CV RMSE, Test RMSE, and Test R2 in a single barplot\n",
    "sns.barplot(x='Value', y='Model', hue='Metric', data=melted_df)\n",
    "plt.title('Comparison of Evaluation Metrics for Each Model')\n",
    "plt.xlabel('Value')\n",
    "plt.ylabel('Model')\n",
    "plt.xticks(rotation=45)\n",
    "plt.legend(title='Metric')\n",
    "plt.tight_layout()\n",
    "plt.show()\n"
   ]
  },
  {
   "cell_type": "code",
   "execution_count": null,
   "id": "1d5caaba",
   "metadata": {},
   "outputs": [],
   "source": []
  }
 ],
 "metadata": {
  "kernelspec": {
   "display_name": "Python 3 (ipykernel)",
   "language": "python",
   "name": "python3"
  },
  "language_info": {
   "codemirror_mode": {
    "name": "ipython",
    "version": 3
   },
   "file_extension": ".py",
   "mimetype": "text/x-python",
   "name": "python",
   "nbconvert_exporter": "python",
   "pygments_lexer": "ipython3",
   "version": "3.9.12"
  }
 },
 "nbformat": 4,
 "nbformat_minor": 5
}
